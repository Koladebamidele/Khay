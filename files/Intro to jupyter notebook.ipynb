{
 "cells": [
  {
   "cell_type": "code",
   "execution_count": 1,
   "id": "27c833cd",
   "metadata": {},
   "outputs": [
    {
     "name": "stdout",
     "output_type": "stream",
     "text": [
      "Hello World!\n"
     ]
    }
   ],
   "source": [
    "print(\"Hello World!\")"
   ]
  },
  {
   "cell_type": "code",
   "execution_count": 2,
   "id": "416f05ff",
   "metadata": {},
   "outputs": [
    {
     "name": "stdout",
     "output_type": "stream",
     "text": [
      "1,2,3,4,5\n",
      "This are numbers\n"
     ]
    }
   ],
   "source": [
    "print(\"1,2,3,4,5\")\n",
    "print(\"This are numbers\")"
   ]
  },
  {
   "cell_type": "code",
   "execution_count": 3,
   "id": "b086ee14",
   "metadata": {},
   "outputs": [
    {
     "name": "stdout",
     "output_type": "stream",
     "text": [
      "1,2,3,4,5\n",
      "This are numbers\n"
     ]
    }
   ],
   "source": [
    "print(\"1,2,3,4,5\")\n",
    "print(\"This are numbers\")"
   ]
  },
  {
   "cell_type": "code",
   "execution_count": 4,
   "id": "e0f6632a",
   "metadata": {},
   "outputs": [
    {
     "name": "stdout",
     "output_type": "stream",
     "text": [
      "1\n"
     ]
    }
   ],
   "source": [
    "print(\"1\")"
   ]
  },
  {
   "cell_type": "code",
   "execution_count": 5,
   "id": "ee9665d3",
   "metadata": {},
   "outputs": [],
   "source": [
    "import numpy"
   ]
  },
  {
   "cell_type": "markdown",
   "id": "a3dd200a",
   "metadata": {},
   "source": [
    "# Heading\n",
    "## Heading\n",
    "### Heading\n",
    "#### Heading\n",
    "##### Heading"
   ]
  },
  {
   "cell_type": "markdown",
   "id": "82f7dee8",
   "metadata": {},
   "source": [
    "**Bold**"
   ]
  },
  {
   "cell_type": "markdown",
   "id": "6a7a6e7a",
   "metadata": {},
   "source": [
    "*Italics?*"
   ]
  },
  {
   "cell_type": "markdown",
   "id": "1b38a6f2",
   "metadata": {},
   "source": [
    "# Keyboard Shortcuts"
   ]
  },
  {
   "cell_type": "markdown",
   "id": "0821091d",
   "metadata": {},
   "source": [
    "To change a cell from code to markdown tap `m`"
   ]
  },
  {
   "cell_type": "markdown",
   "id": "fa26e59e",
   "metadata": {},
   "source": [
    "to run a cell an move to the cell beneat it you tap `shift + enter` key"
   ]
  },
  {
   "cell_type": "markdown",
   "id": "92967761",
   "metadata": {},
   "source": [
    "to run a cell an insert another cell beneat it you tap `alt + enter` key"
   ]
  },
  {
   "cell_type": "markdown",
   "id": "d43ef4c2",
   "metadata": {},
   "source": [
    "to run a cell an stay on it you tap `ctrl + enter` key"
   ]
  },
  {
   "cell_type": "markdown",
   "id": "717a7b5c",
   "metadata": {},
   "source": [
    "to check the doc string of a function you tap `shift + tab` key"
   ]
  },
  {
   "cell_type": "markdown",
   "id": "e5b35d0e",
   "metadata": {},
   "source": [
    "for code completion you tap the `tab` key"
   ]
  }
 ],
 "metadata": {
  "kernelspec": {
   "display_name": "Python 3",
   "language": "python",
   "name": "python3"
  },
  "language_info": {
   "codemirror_mode": {
    "name": "ipython",
    "version": 3
   },
   "file_extension": ".py",
   "mimetype": "text/x-python",
   "name": "python",
   "nbconvert_exporter": "python",
   "pygments_lexer": "ipython3",
   "version": "3.8.8"
  }
 },
 "nbformat": 4,
 "nbformat_minor": 5
}
