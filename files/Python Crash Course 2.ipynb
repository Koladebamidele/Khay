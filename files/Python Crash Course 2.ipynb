{
 "cells": [
  {
   "cell_type": "markdown",
   "id": "10bf00d8",
   "metadata": {},
   "source": [
    "# Control Flows"
   ]
  },
  {
   "cell_type": "markdown",
   "id": "7f79f058",
   "metadata": {},
   "source": [
    "## Booleans"
   ]
  },
  {
   "cell_type": "code",
   "execution_count": 1,
   "id": "7662a0d2",
   "metadata": {},
   "outputs": [
    {
     "name": "stdout",
     "output_type": "stream",
     "text": [
      "True\n"
     ]
    }
   ],
   "source": [
    "my_boolean = True\n",
    "print(my_boolean)"
   ]
  },
  {
   "cell_type": "code",
   "execution_count": 2,
   "id": "1fff9482",
   "metadata": {},
   "outputs": [
    {
     "name": "stdout",
     "output_type": "stream",
     "text": [
      "False\n"
     ]
    }
   ],
   "source": [
    "print(2 == 3)"
   ]
  },
  {
   "cell_type": "code",
   "execution_count": 3,
   "id": "b6effdb5",
   "metadata": {},
   "outputs": [
    {
     "name": "stdout",
     "output_type": "stream",
     "text": [
      "True\n"
     ]
    }
   ],
   "source": [
    "print(\"hello\" == \"hello\")"
   ]
  },
  {
   "cell_type": "markdown",
   "id": "2b4b813b",
   "metadata": {},
   "source": [
    "### Comparison operators"
   ]
  },
  {
   "cell_type": "markdown",
   "id": "c365bf8d",
   "metadata": {},
   "source": [
    "Their are six comparison operators\n",
    "* ==(equal to)\n",
    "* !=(not equal to)\n",
    "* (greater than) >\n",
    "* <(less than)\n",
    "* (greater than or equal to) >=\n",
    "* <=(less than or equal to)"
   ]
  },
  {
   "cell_type": "code",
   "execution_count": 4,
   "id": "06b8b3a5",
   "metadata": {},
   "outputs": [],
   "source": [
    "x = 7"
   ]
  },
  {
   "cell_type": "code",
   "execution_count": 5,
   "id": "e77fb9d9",
   "metadata": {},
   "outputs": [
    {
     "name": "stdout",
     "output_type": "stream",
     "text": [
      "True\n"
     ]
    }
   ],
   "source": [
    "print(x == 7)"
   ]
  },
  {
   "cell_type": "code",
   "execution_count": 6,
   "id": "9fe1ec23",
   "metadata": {},
   "outputs": [
    {
     "name": "stdout",
     "output_type": "stream",
     "text": [
      "False\n"
     ]
    }
   ],
   "source": [
    "print(x != 7)"
   ]
  },
  {
   "cell_type": "code",
   "execution_count": 7,
   "id": "7d7dd5d9",
   "metadata": {},
   "outputs": [
    {
     "name": "stdout",
     "output_type": "stream",
     "text": [
      "True\n"
     ]
    }
   ],
   "source": [
    "print(x > 5)"
   ]
  },
  {
   "cell_type": "code",
   "execution_count": 8,
   "id": "546fc73a",
   "metadata": {},
   "outputs": [
    {
     "name": "stdout",
     "output_type": "stream",
     "text": [
      "False\n"
     ]
    }
   ],
   "source": [
    "print(x < 2)"
   ]
  },
  {
   "cell_type": "code",
   "execution_count": 9,
   "id": "36f56cb7",
   "metadata": {},
   "outputs": [
    {
     "name": "stdout",
     "output_type": "stream",
     "text": [
      "True\n"
     ]
    }
   ],
   "source": [
    "print(x >= 7)"
   ]
  },
  {
   "cell_type": "code",
   "execution_count": 10,
   "id": "3fbeb28a",
   "metadata": {},
   "outputs": [
    {
     "name": "stdout",
     "output_type": "stream",
     "text": [
      "True\n"
     ]
    }
   ],
   "source": [
    "print(x <= 7)"
   ]
  },
  {
   "cell_type": "markdown",
   "id": "767b3da8",
   "metadata": {},
   "source": [
    "## If Statement\n",
    "> if condition:\n",
    "     statements"
   ]
  },
  {
   "cell_type": "code",
   "execution_count": 11,
   "id": "64cb55e3",
   "metadata": {},
   "outputs": [
    {
     "name": "stdout",
     "output_type": "stream",
     "text": [
      "y is greater than 5\n"
     ]
    }
   ],
   "source": [
    "y = 42\n",
    "if y > 5:\n",
    "    print(\"y is greater than 5\")"
   ]
  },
  {
   "cell_type": "code",
   "execution_count": 12,
   "id": "4e8cd175",
   "metadata": {},
   "outputs": [],
   "source": [
    "num = 4\n",
    "if num > 5:\n",
    "    print(\"Bigger than 5\")\n",
    "    if num <= 47:\n",
    "        print(\"Between 5 and 47\")"
   ]
  },
  {
   "cell_type": "markdown",
   "id": "eb80759c",
   "metadata": {},
   "source": [
    "## if-else Statement"
   ]
  },
  {
   "cell_type": "code",
   "execution_count": 13,
   "id": "3b437c5c",
   "metadata": {},
   "outputs": [
    {
     "name": "stdout",
     "output_type": "stream",
     "text": [
      "no\n"
     ]
    }
   ],
   "source": [
    "x = 4\n",
    "if x == 5:\n",
    "    print(\"yes\")\n",
    "else:\n",
    "    print(\"no\")"
   ]
  },
  {
   "cell_type": "code",
   "execution_count": 14,
   "id": "0b1866d5",
   "metadata": {},
   "outputs": [
    {
     "name": "stdout",
     "output_type": "stream",
     "text": [
      "three\n"
     ]
    }
   ],
   "source": [
    "num =  3\n",
    "if num == 1:\n",
    "    print(\"one\")\n",
    "else:\n",
    "    if num == 2:\n",
    "        print(\"two\")\n",
    "    else:\n",
    "        if num == 3:\n",
    "            print(\"three\")\n",
    "        else:\n",
    "            print(\"Something else\")"
   ]
  },
  {
   "cell_type": "markdown",
   "id": "eff078ad",
   "metadata": {},
   "source": [
    "## elif Statement"
   ]
  },
  {
   "cell_type": "code",
   "execution_count": 15,
   "id": "64395157",
   "metadata": {},
   "outputs": [
    {
     "name": "stdout",
     "output_type": "stream",
     "text": [
      "Three\n"
     ]
    }
   ],
   "source": [
    "num = 3\n",
    "if num == 1:\n",
    "    print(\"One\")\n",
    "elif num == 2:\n",
    "    print(\"Two\")\n",
    "elif num == 3:\n",
    "    print(\"Three\")\n",
    "else:\n",
    "    print(\"Something else\")"
   ]
  },
  {
   "cell_type": "markdown",
   "id": "e4acc3ef",
   "metadata": {},
   "source": [
    "## Logic\n",
    "\n",
    "and\n",
    "or\n",
    "not"
   ]
  },
  {
   "cell_type": "code",
   "execution_count": 16,
   "id": "2041ee28",
   "metadata": {},
   "outputs": [
    {
     "data": {
      "text/plain": [
       "True"
      ]
     },
     "execution_count": 16,
     "metadata": {},
     "output_type": "execute_result"
    }
   ],
   "source": [
    "1 == 1 and 2 == 2"
   ]
  },
  {
   "cell_type": "code",
   "execution_count": 17,
   "id": "70ecf416",
   "metadata": {},
   "outputs": [
    {
     "data": {
      "text/plain": [
       "False"
      ]
     },
     "execution_count": 17,
     "metadata": {},
     "output_type": "execute_result"
    }
   ],
   "source": [
    "1 == 1 and 2 == 1"
   ]
  },
  {
   "cell_type": "code",
   "execution_count": 18,
   "id": "e0e64317",
   "metadata": {},
   "outputs": [
    {
     "data": {
      "text/plain": [
       "True"
      ]
     },
     "execution_count": 18,
     "metadata": {},
     "output_type": "execute_result"
    }
   ],
   "source": [
    "1 == 1 or 2 == 2"
   ]
  },
  {
   "cell_type": "code",
   "execution_count": 19,
   "id": "382a2645",
   "metadata": {},
   "outputs": [
    {
     "data": {
      "text/plain": [
       "True"
      ]
     },
     "execution_count": 19,
     "metadata": {},
     "output_type": "execute_result"
    }
   ],
   "source": [
    "1 == 1 or 2 == 1"
   ]
  },
  {
   "cell_type": "code",
   "execution_count": 20,
   "id": "c4a838e4",
   "metadata": {},
   "outputs": [
    {
     "data": {
      "text/plain": [
       "False"
      ]
     },
     "execution_count": 20,
     "metadata": {},
     "output_type": "execute_result"
    }
   ],
   "source": [
    "1 == 2 or 2 == 1"
   ]
  },
  {
   "cell_type": "code",
   "execution_count": 21,
   "id": "c424c51a",
   "metadata": {},
   "outputs": [
    {
     "data": {
      "text/plain": [
       "False"
      ]
     },
     "execution_count": 21,
     "metadata": {},
     "output_type": "execute_result"
    }
   ],
   "source": [
    "1 > 7"
   ]
  },
  {
   "cell_type": "code",
   "execution_count": 22,
   "id": "490d0865",
   "metadata": {},
   "outputs": [
    {
     "data": {
      "text/plain": [
       "True"
      ]
     },
     "execution_count": 22,
     "metadata": {},
     "output_type": "execute_result"
    }
   ],
   "source": [
    "not 1 > 7"
   ]
  },
  {
   "cell_type": "markdown",
   "id": "d9f1af88",
   "metadata": {},
   "source": [
    "# Loops"
   ]
  },
  {
   "cell_type": "markdown",
   "id": "f1994f54",
   "metadata": {},
   "source": [
    "## while loops"
   ]
  },
  {
   "cell_type": "code",
   "execution_count": 23,
   "id": "e7ecbef1",
   "metadata": {},
   "outputs": [],
   "source": [
    "i = 1"
   ]
  },
  {
   "cell_type": "code",
   "execution_count": 24,
   "id": "c28ebc42",
   "metadata": {},
   "outputs": [
    {
     "name": "stdout",
     "output_type": "stream",
     "text": [
      "1\n",
      "2\n",
      "3\n",
      "4\n",
      "5\n"
     ]
    }
   ],
   "source": [
    "while i <= 5:\n",
    "    print(i)\n",
    "    i += 1"
   ]
  },
  {
   "cell_type": "code",
   "execution_count": 25,
   "id": "b59c1273",
   "metadata": {},
   "outputs": [
    {
     "name": "stdout",
     "output_type": "stream",
     "text": [
      "1 is odd\n",
      "2 is even\n",
      "3 is odd\n",
      "4 is even\n",
      "5 is odd\n",
      "6 is even\n",
      "7 is odd\n",
      "8 is even\n",
      "9 is odd\n"
     ]
    }
   ],
   "source": [
    "x = 1\n",
    "while x < 10:\n",
    "    if x%2 == 0:\n",
    "        print(str(x) + \" is even\")\n",
    "    else:\n",
    "        print(str(x) + \" is odd\")\n",
    "        \n",
    "    x += 1"
   ]
  },
  {
   "cell_type": "markdown",
   "id": "795060cf",
   "metadata": {},
   "source": [
    "## Break and Continue"
   ]
  },
  {
   "cell_type": "code",
   "execution_count": 26,
   "id": "23435964",
   "metadata": {},
   "outputs": [
    {
     "name": "stdout",
     "output_type": "stream",
     "text": [
      "0\n",
      "1\n",
      "2\n",
      "3\n",
      "4\n",
      "Breaking\n"
     ]
    }
   ],
   "source": [
    "# Break\n",
    "\n",
    "i = 0\n",
    "while True:\n",
    "    print(i)\n",
    "    i += 1\n",
    "    if i >= 5:\n",
    "        print(\"Breaking\")\n",
    "        break"
   ]
  },
  {
   "cell_type": "code",
   "execution_count": 27,
   "id": "a6795c99",
   "metadata": {},
   "outputs": [
    {
     "name": "stdout",
     "output_type": "stream",
     "text": [
      "1\n",
      "2\n",
      "Skipping 3\n",
      "4\n",
      "5\n"
     ]
    }
   ],
   "source": [
    "# Continue\n",
    "\n",
    "i = 0\n",
    "while i < 5:\n",
    "    i += 1\n",
    "    if i == 3:\n",
    "        print(\"Skipping 3\")\n",
    "        continue\n",
    "    print(i)"
   ]
  },
  {
   "cell_type": "markdown",
   "id": "219e3dc0",
   "metadata": {},
   "source": [
    "## For loops"
   ]
  },
  {
   "cell_type": "code",
   "execution_count": 28,
   "id": "ba8a2692",
   "metadata": {},
   "outputs": [],
   "source": [
    "words = [\"hello\", \"world\", \"spam\", \"eggs\"]"
   ]
  },
  {
   "cell_type": "code",
   "execution_count": 29,
   "id": "ec955b55",
   "metadata": {},
   "outputs": [
    {
     "data": {
      "text/plain": [
       "'hello'"
      ]
     },
     "execution_count": 29,
     "metadata": {},
     "output_type": "execute_result"
    }
   ],
   "source": [
    "words[0]"
   ]
  },
  {
   "cell_type": "code",
   "execution_count": 30,
   "id": "bb3d1555",
   "metadata": {},
   "outputs": [
    {
     "name": "stdout",
     "output_type": "stream",
     "text": [
      "hello!\n",
      "world!\n",
      "spam!\n",
      "eggs!\n"
     ]
    }
   ],
   "source": [
    "for word in words:\n",
    "    print(word + \"!\")"
   ]
  },
  {
   "cell_type": "code",
   "execution_count": 31,
   "id": "7dd663f6",
   "metadata": {},
   "outputs": [
    {
     "name": "stdout",
     "output_type": "stream",
     "text": [
      "t\n",
      "e\n",
      "s\n",
      "t\n",
      "i\n",
      "n\n",
      "g\n",
      " \n",
      "f\n",
      "o\n",
      "r\n",
      " \n",
      "l\n",
      "o\n",
      "o\n",
      "p\n",
      "s\n"
     ]
    }
   ],
   "source": [
    "str = \"testing for loops\"\n",
    "\n",
    "for x in str:\n",
    "    print(x)"
   ]
  },
  {
   "cell_type": "code",
   "execution_count": 32,
   "id": "6d550cc9",
   "metadata": {},
   "outputs": [
    {
     "data": {
      "text/plain": [
       "' '"
      ]
     },
     "execution_count": 32,
     "metadata": {},
     "output_type": "execute_result"
    }
   ],
   "source": [
    "str[7]"
   ]
  },
  {
   "cell_type": "markdown",
   "id": "551adaba",
   "metadata": {},
   "source": [
    "# Range"
   ]
  },
  {
   "cell_type": "code",
   "execution_count": 33,
   "id": "05eaeb9f",
   "metadata": {},
   "outputs": [],
   "source": [
    "numbers = list(range(10))"
   ]
  },
  {
   "cell_type": "code",
   "execution_count": 34,
   "id": "d344a72f",
   "metadata": {},
   "outputs": [
    {
     "data": {
      "text/plain": [
       "[0, 1, 2, 3, 4, 5, 6, 7, 8, 9]"
      ]
     },
     "execution_count": 34,
     "metadata": {},
     "output_type": "execute_result"
    }
   ],
   "source": [
    "numbers"
   ]
  },
  {
   "cell_type": "code",
   "execution_count": 35,
   "id": "a09cb6eb",
   "metadata": {},
   "outputs": [],
   "source": [
    "numbers = list(range(3, 8))"
   ]
  },
  {
   "cell_type": "code",
   "execution_count": 36,
   "id": "339653ef",
   "metadata": {},
   "outputs": [
    {
     "data": {
      "text/plain": [
       "[3, 4, 5, 6, 7]"
      ]
     },
     "execution_count": 36,
     "metadata": {},
     "output_type": "execute_result"
    }
   ],
   "source": [
    "numbers"
   ]
  },
  {
   "cell_type": "code",
   "execution_count": 37,
   "id": "f498ab76",
   "metadata": {},
   "outputs": [
    {
     "data": {
      "text/plain": [
       "[5, 7, 9, 11, 13, 15, 17, 19]"
      ]
     },
     "execution_count": 37,
     "metadata": {},
     "output_type": "execute_result"
    }
   ],
   "source": [
    "numbers = list(range(5, 20, 2))\n",
    "numbers"
   ]
  },
  {
   "cell_type": "code",
   "execution_count": 38,
   "id": "7253e623",
   "metadata": {},
   "outputs": [],
   "source": [
    "numbers = list(range(20, 5, -2))"
   ]
  },
  {
   "cell_type": "code",
   "execution_count": 39,
   "id": "a777ffef",
   "metadata": {},
   "outputs": [
    {
     "data": {
      "text/plain": [
       "[20, 18, 16, 14, 12, 10, 8, 6]"
      ]
     },
     "execution_count": 39,
     "metadata": {},
     "output_type": "execute_result"
    }
   ],
   "source": [
    "numbers"
   ]
  },
  {
   "cell_type": "code",
   "execution_count": 40,
   "id": "0e2a8a52",
   "metadata": {},
   "outputs": [
    {
     "data": {
      "text/plain": [
       "range(0, 5)"
      ]
     },
     "execution_count": 40,
     "metadata": {},
     "output_type": "execute_result"
    }
   ],
   "source": [
    "range(5)"
   ]
  },
  {
   "cell_type": "code",
   "execution_count": 41,
   "id": "e97a7a02",
   "metadata": {},
   "outputs": [
    {
     "name": "stdout",
     "output_type": "stream",
     "text": [
      "hello!\n",
      "hello!\n",
      "hello!\n",
      "hello!\n",
      "hello!\n"
     ]
    }
   ],
   "source": [
    "for i in range(5):\n",
    "    print(\"hello!\")"
   ]
  },
  {
   "cell_type": "code",
   "execution_count": 42,
   "id": "31cef164",
   "metadata": {},
   "outputs": [
    {
     "name": "stdout",
     "output_type": "stream",
     "text": [
      "0\n",
      "1\n",
      "2\n",
      "3\n",
      "4\n"
     ]
    }
   ],
   "source": [
    "for i in range(5):\n",
    "    print(i)"
   ]
  },
  {
   "cell_type": "markdown",
   "id": "ea18ea4e",
   "metadata": {},
   "source": [
    "# Functions\n",
    "\n",
    "* print()\n",
    "* range()\n",
    "* str()\n",
    "* float()\n",
    "* bool()\n",
    "* int()\n",
    "* list()\n",
    "* type()"
   ]
  },
  {
   "cell_type": "markdown",
   "id": "39b3965f",
   "metadata": {},
   "source": [
    "## List Functions"
   ]
  },
  {
   "cell_type": "code",
   "execution_count": 43,
   "id": "84b840fd",
   "metadata": {},
   "outputs": [
    {
     "data": {
      "text/plain": [
       "[1, 2, 3, 4, 5]"
      ]
     },
     "execution_count": 43,
     "metadata": {},
     "output_type": "execute_result"
    }
   ],
   "source": [
    "nums = [1, 2, 3, 4, 5]\n",
    "nums"
   ]
  },
  {
   "cell_type": "code",
   "execution_count": 44,
   "id": "9fb5baf9",
   "metadata": {},
   "outputs": [
    {
     "data": {
      "text/plain": [
       "5"
      ]
     },
     "execution_count": 44,
     "metadata": {},
     "output_type": "execute_result"
    }
   ],
   "source": [
    "len(nums)"
   ]
  },
  {
   "cell_type": "code",
   "execution_count": 45,
   "id": "c32700a0",
   "metadata": {},
   "outputs": [
    {
     "data": {
      "text/plain": [
       "[1, 2, 3, 4, 5, 6]"
      ]
     },
     "execution_count": 45,
     "metadata": {},
     "output_type": "execute_result"
    }
   ],
   "source": [
    "nums.append(6)\n",
    "nums"
   ]
  },
  {
   "cell_type": "code",
   "execution_count": 46,
   "id": "cccac797",
   "metadata": {},
   "outputs": [
    {
     "data": {
      "text/plain": [
       "[1, 2, 2.5, 3, 4, 5, 6]"
      ]
     },
     "execution_count": 46,
     "metadata": {},
     "output_type": "execute_result"
    }
   ],
   "source": [
    "nums.insert(2, 2.5)\n",
    "nums"
   ]
  },
  {
   "cell_type": "code",
   "execution_count": 47,
   "id": "760e8ffe",
   "metadata": {},
   "outputs": [
    {
     "data": {
      "text/plain": [
       "3"
      ]
     },
     "execution_count": 47,
     "metadata": {},
     "output_type": "execute_result"
    }
   ],
   "source": [
    "nums.index(3)"
   ]
  },
  {
   "cell_type": "code",
   "execution_count": 48,
   "id": "4e08d2d0",
   "metadata": {},
   "outputs": [
    {
     "data": {
      "text/plain": [
       "6"
      ]
     },
     "execution_count": 48,
     "metadata": {},
     "output_type": "execute_result"
    }
   ],
   "source": [
    "max(nums)"
   ]
  },
  {
   "cell_type": "code",
   "execution_count": 49,
   "id": "83b6d822",
   "metadata": {},
   "outputs": [
    {
     "data": {
      "text/plain": [
       "1"
      ]
     },
     "execution_count": 49,
     "metadata": {},
     "output_type": "execute_result"
    }
   ],
   "source": [
    "min(nums)"
   ]
  },
  {
   "cell_type": "code",
   "execution_count": 50,
   "id": "e8426b49",
   "metadata": {},
   "outputs": [],
   "source": [
    "nums.append(6)"
   ]
  },
  {
   "cell_type": "code",
   "execution_count": 51,
   "id": "1713a327",
   "metadata": {},
   "outputs": [
    {
     "data": {
      "text/plain": [
       "[1, 2, 2.5, 3, 4, 5, 6, 6]"
      ]
     },
     "execution_count": 51,
     "metadata": {},
     "output_type": "execute_result"
    }
   ],
   "source": [
    "nums"
   ]
  },
  {
   "cell_type": "code",
   "execution_count": 52,
   "id": "8772624c",
   "metadata": {},
   "outputs": [
    {
     "data": {
      "text/plain": [
       "2"
      ]
     },
     "execution_count": 52,
     "metadata": {},
     "output_type": "execute_result"
    }
   ],
   "source": [
    "nums.count(6)"
   ]
  },
  {
   "cell_type": "code",
   "execution_count": 53,
   "id": "718e1a50",
   "metadata": {},
   "outputs": [
    {
     "data": {
      "text/plain": [
       "[1, 2, 2.5, 3, 4, 5, 6]"
      ]
     },
     "execution_count": 53,
     "metadata": {},
     "output_type": "execute_result"
    }
   ],
   "source": [
    "nums.remove(6)\n",
    "nums"
   ]
  },
  {
   "cell_type": "code",
   "execution_count": 54,
   "id": "9abfc6f3",
   "metadata": {},
   "outputs": [],
   "source": [
    "nums.reverse()"
   ]
  },
  {
   "cell_type": "code",
   "execution_count": 55,
   "id": "200d2d53",
   "metadata": {},
   "outputs": [
    {
     "data": {
      "text/plain": [
       "[6, 5, 4, 3, 2.5, 2, 1]"
      ]
     },
     "execution_count": 55,
     "metadata": {},
     "output_type": "execute_result"
    }
   ],
   "source": [
    "nums"
   ]
  },
  {
   "cell_type": "markdown",
   "id": "1a905127",
   "metadata": {},
   "source": [
    "## String Functions"
   ]
  },
  {
   "cell_type": "code",
   "execution_count": 56,
   "id": "332acad2",
   "metadata": {},
   "outputs": [],
   "source": [
    "nums = [4, 5, 6]"
   ]
  },
  {
   "cell_type": "code",
   "execution_count": 57,
   "id": "ea80f8b4",
   "metadata": {},
   "outputs": [
    {
     "name": "stdout",
     "output_type": "stream",
     "text": [
      "Numbers: 4 5 6\n"
     ]
    }
   ],
   "source": [
    "msg = \"Numbers: {0} {1} {2}\".format(nums[0], nums[1], nums[2])\n",
    "print(msg)"
   ]
  },
  {
   "cell_type": "code",
   "execution_count": 58,
   "id": "e8eea605",
   "metadata": {},
   "outputs": [
    {
     "name": "stdout",
     "output_type": "stream",
     "text": [
      "5, 12\n"
     ]
    }
   ],
   "source": [
    "a = \"{x}, {y}\".format(x=5, y=12)\n",
    "print(a)"
   ]
  },
  {
   "cell_type": "code",
   "execution_count": 59,
   "id": "2368bb2d",
   "metadata": {},
   "outputs": [
    {
     "name": "stdout",
     "output_type": "stream",
     "text": [
      "spam, eggs, ham\n"
     ]
    }
   ],
   "source": [
    "print(\", \".join([\"spam\", \"eggs\", \"ham\"]))"
   ]
  },
  {
   "cell_type": "code",
   "execution_count": 60,
   "id": "caaa21a9",
   "metadata": {},
   "outputs": [
    {
     "name": "stdout",
     "output_type": "stream",
     "text": [
      "Hello World\n"
     ]
    }
   ],
   "source": [
    "print(\"Hello Me\".replace(\"Me\", \"World\"))"
   ]
  },
  {
   "cell_type": "code",
   "execution_count": 61,
   "id": "d54f9aa3",
   "metadata": {},
   "outputs": [
    {
     "name": "stdout",
     "output_type": "stream",
     "text": [
      "True\n"
     ]
    }
   ],
   "source": [
    "print(\"This is a sentence.\".startswith(\"This\"))"
   ]
  },
  {
   "cell_type": "code",
   "execution_count": 62,
   "id": "93c90697",
   "metadata": {},
   "outputs": [
    {
     "name": "stdout",
     "output_type": "stream",
     "text": [
      "False\n"
     ]
    }
   ],
   "source": [
    "print(\"This is a sentence\".startswith(\"end\"))"
   ]
  },
  {
   "cell_type": "code",
   "execution_count": 63,
   "id": "e9a8bc74",
   "metadata": {},
   "outputs": [
    {
     "name": "stdout",
     "output_type": "stream",
     "text": [
      "True\n"
     ]
    }
   ],
   "source": [
    "print(\"This is a sentence\".endswith(\"sentence\"))"
   ]
  },
  {
   "cell_type": "code",
   "execution_count": 64,
   "id": "2ef0e716",
   "metadata": {},
   "outputs": [
    {
     "name": "stdout",
     "output_type": "stream",
     "text": [
      "NAME\n"
     ]
    }
   ],
   "source": [
    "print(\"name\".upper())"
   ]
  },
  {
   "cell_type": "code",
   "execution_count": 65,
   "id": "9c49b130",
   "metadata": {},
   "outputs": [
    {
     "name": "stdout",
     "output_type": "stream",
     "text": [
      "name\n"
     ]
    }
   ],
   "source": [
    "print(\"NAME\".lower())"
   ]
  },
  {
   "cell_type": "code",
   "execution_count": 66,
   "id": "a54a89be",
   "metadata": {},
   "outputs": [
    {
     "name": "stdout",
     "output_type": "stream",
     "text": [
      "['spam,', 'eggs,', 'ham']\n"
     ]
    }
   ],
   "source": [
    "print(\"spam, eggs, ham\".split())"
   ]
  },
  {
   "cell_type": "code",
   "execution_count": 67,
   "id": "b8f68601",
   "metadata": {},
   "outputs": [
    {
     "name": "stdout",
     "output_type": "stream",
     "text": [
      "['spam', 'eggs', 'ham']\n"
     ]
    }
   ],
   "source": [
    "print(\"spam, eggs, ham\".split(\", \"))"
   ]
  },
  {
   "cell_type": "markdown",
   "id": "cd662bc1",
   "metadata": {},
   "source": [
    "## Making your own functions"
   ]
  },
  {
   "cell_type": "code",
   "execution_count": 68,
   "id": "b9c156a8",
   "metadata": {},
   "outputs": [
    {
     "name": "stdout",
     "output_type": "stream",
     "text": [
      "Hello World!\n"
     ]
    }
   ],
   "source": [
    "def hello():\n",
    "    print(\"Hello World!\")\n",
    "    \n",
    "hello()"
   ]
  },
  {
   "cell_type": "code",
   "execution_count": 69,
   "id": "5244548c",
   "metadata": {},
   "outputs": [
    {
     "name": "stdout",
     "output_type": "stream",
     "text": [
      "Hello World!\n"
     ]
    }
   ],
   "source": [
    "hello()"
   ]
  },
  {
   "cell_type": "code",
   "execution_count": 70,
   "id": "e7846944",
   "metadata": {},
   "outputs": [],
   "source": [
    "def printout(word):\n",
    "    print(word + \"!\")"
   ]
  },
  {
   "cell_type": "code",
   "execution_count": 72,
   "id": "bd7e818d",
   "metadata": {},
   "outputs": [
    {
     "name": "stdout",
     "output_type": "stream",
     "text": [
      "Hello!\n"
     ]
    }
   ],
   "source": [
    "printout(\"Hello\")"
   ]
  },
  {
   "cell_type": "code",
   "execution_count": 73,
   "id": "6362dff2",
   "metadata": {},
   "outputs": [],
   "source": [
    "def multiply(x, y):\n",
    "    print(x * y)"
   ]
  },
  {
   "cell_type": "code",
   "execution_count": 74,
   "id": "abd74296",
   "metadata": {
    "scrolled": false
   },
   "outputs": [
    {
     "name": "stdout",
     "output_type": "stream",
     "text": [
      "6\n"
     ]
    }
   ],
   "source": [
    "multiply(2, 3)"
   ]
  },
  {
   "cell_type": "code",
   "execution_count": 75,
   "id": "e32a8b67",
   "metadata": {},
   "outputs": [],
   "source": [
    "def max(x, y):\n",
    "    if x >= y:\n",
    "        return x\n",
    "    else:\n",
    "        return y"
   ]
  },
  {
   "cell_type": "code",
   "execution_count": 76,
   "id": "1515d064",
   "metadata": {
    "scrolled": true
   },
   "outputs": [
    {
     "data": {
      "text/plain": [
       "7"
      ]
     },
     "execution_count": 76,
     "metadata": {},
     "output_type": "execute_result"
    }
   ],
   "source": [
    "max(4, 7)"
   ]
  },
  {
   "cell_type": "code",
   "execution_count": 77,
   "id": "30ad5043",
   "metadata": {},
   "outputs": [],
   "source": [
    "def add_num(x, y, z):\n",
    "    total = x + y + z\n",
    "    return total"
   ]
  },
  {
   "cell_type": "code",
   "execution_count": 78,
   "id": "d163c388",
   "metadata": {},
   "outputs": [
    {
     "data": {
      "text/plain": [
       "6"
      ]
     },
     "execution_count": 78,
     "metadata": {},
     "output_type": "execute_result"
    }
   ],
   "source": [
    "add_num(1, 2, 3)"
   ]
  },
  {
   "cell_type": "code",
   "execution_count": 79,
   "id": "82d40add",
   "metadata": {},
   "outputs": [],
   "source": [
    "def shout(word):\n",
    "    \"\"\"\n",
    "    Print a word with an exclamation mark following it.\"\"\"\n",
    "    \n",
    "    print(word + \"!\")"
   ]
  },
  {
   "cell_type": "code",
   "execution_count": 80,
   "id": "29ae0be6",
   "metadata": {},
   "outputs": [
    {
     "name": "stdout",
     "output_type": "stream",
     "text": [
      "spam!\n"
     ]
    }
   ],
   "source": [
    "shout(\"spam\")"
   ]
  },
  {
   "cell_type": "code",
   "execution_count": 82,
   "id": "e52c30f9",
   "metadata": {},
   "outputs": [
    {
     "name": "stdout",
     "output_type": "stream",
     "text": [
      "spam!\n"
     ]
    }
   ],
   "source": [
    "spam = \"spam\"\n",
    "shout(spam)"
   ]
  },
  {
   "cell_type": "markdown",
   "id": "93f39e05",
   "metadata": {},
   "source": [
    "# Dictionaries"
   ]
  },
  {
   "cell_type": "code",
   "execution_count": 83,
   "id": "fd8d0603",
   "metadata": {},
   "outputs": [
    {
     "data": {
      "text/plain": [
       "['hi', 'hello', 'welcome']"
      ]
     },
     "execution_count": 83,
     "metadata": {},
     "output_type": "execute_result"
    }
   ],
   "source": [
    "# This is a list\n",
    "x = ['hi', 'hello', 'welcome']\n",
    "x"
   ]
  },
  {
   "cell_type": "code",
   "execution_count": 84,
   "id": "400d471e",
   "metadata": {},
   "outputs": [],
   "source": [
    "ages = {\n",
    "    \"Dave\": 24,\n",
    "    \"Mary\": 42,\n",
    "    \"John\": 58\n",
    "}"
   ]
  },
  {
   "cell_type": "code",
   "execution_count": 85,
   "id": "f7eeb82d",
   "metadata": {},
   "outputs": [
    {
     "data": {
      "text/plain": [
       "{'Dave': 24, 'Mary': 42, 'John': 58}"
      ]
     },
     "execution_count": 85,
     "metadata": {},
     "output_type": "execute_result"
    }
   ],
   "source": [
    "ages"
   ]
  },
  {
   "cell_type": "code",
   "execution_count": 86,
   "id": "d8ba610b",
   "metadata": {},
   "outputs": [
    {
     "data": {
      "text/plain": [
       "24"
      ]
     },
     "execution_count": 86,
     "metadata": {},
     "output_type": "execute_result"
    }
   ],
   "source": [
    "ages[\"Dave\"]"
   ]
  },
  {
   "cell_type": "code",
   "execution_count": 87,
   "id": "2c09844e",
   "metadata": {},
   "outputs": [
    {
     "data": {
      "text/plain": [
       "58"
      ]
     },
     "execution_count": 87,
     "metadata": {},
     "output_type": "execute_result"
    }
   ],
   "source": [
    "ages[\"John\"]"
   ]
  },
  {
   "cell_type": "code",
   "execution_count": 88,
   "id": "a3bac43f",
   "metadata": {},
   "outputs": [],
   "source": [
    "nums = {\n",
    "    1: \"One\",\n",
    "    2: \"Two\",\n",
    "    3: \"Three\",\n",
    "}"
   ]
  },
  {
   "cell_type": "code",
   "execution_count": 89,
   "id": "600fdd70",
   "metadata": {},
   "outputs": [
    {
     "name": "stdout",
     "output_type": "stream",
     "text": [
      "True\n"
     ]
    }
   ],
   "source": [
    "print(1 in nums)"
   ]
  },
  {
   "cell_type": "code",
   "execution_count": 90,
   "id": "8a392e32",
   "metadata": {},
   "outputs": [
    {
     "name": "stdout",
     "output_type": "stream",
     "text": [
      "False\n"
     ]
    }
   ],
   "source": [
    "print(\"Three\" in nums)"
   ]
  },
  {
   "cell_type": "code",
   "execution_count": 91,
   "id": "c5413158",
   "metadata": {},
   "outputs": [],
   "source": [
    "pairs = {\n",
    "    1: \"apple\",\n",
    "    \"orange\": [2, 3, 4],\n",
    "    True: False,\n",
    "    12: \"True\",\n",
    "}"
   ]
  },
  {
   "cell_type": "code",
   "execution_count": 92,
   "id": "6159dad4",
   "metadata": {},
   "outputs": [
    {
     "data": {
      "text/plain": [
       "[2, 3, 4]"
      ]
     },
     "execution_count": 92,
     "metadata": {},
     "output_type": "execute_result"
    }
   ],
   "source": [
    "pairs.get(\"orange\")"
   ]
  },
  {
   "cell_type": "code",
   "execution_count": 93,
   "id": "5af049d8",
   "metadata": {},
   "outputs": [
    {
     "data": {
      "text/plain": [
       "[2, 3, 4]"
      ]
     },
     "execution_count": 93,
     "metadata": {},
     "output_type": "execute_result"
    }
   ],
   "source": [
    "pairs[\"orange\"]"
   ]
  },
  {
   "cell_type": "code",
   "execution_count": 95,
   "id": "173cc1d9",
   "metadata": {},
   "outputs": [
    {
     "data": {
      "text/plain": [
       "3"
      ]
     },
     "execution_count": 95,
     "metadata": {},
     "output_type": "execute_result"
    }
   ],
   "source": [
    "len(pairs)"
   ]
  },
  {
   "cell_type": "markdown",
   "id": "0a2905e9",
   "metadata": {},
   "source": [
    "# Tuples"
   ]
  },
  {
   "cell_type": "code",
   "execution_count": 96,
   "id": "bd6958ea",
   "metadata": {},
   "outputs": [],
   "source": [
    "words = (\"spam\", \"eggs\", \"sausages\")"
   ]
  },
  {
   "cell_type": "code",
   "execution_count": 97,
   "id": "65913859",
   "metadata": {},
   "outputs": [
    {
     "data": {
      "text/plain": [
       "'spam'"
      ]
     },
     "execution_count": 97,
     "metadata": {},
     "output_type": "execute_result"
    }
   ],
   "source": [
    "words[0]"
   ]
  },
  {
   "cell_type": "code",
   "execution_count": 98,
   "id": "bacd8f66",
   "metadata": {},
   "outputs": [
    {
     "ename": "TypeError",
     "evalue": "'tuple' object does not support item assignment",
     "output_type": "error",
     "traceback": [
      "\u001b[0;31m---------------------------------------------------------------------------\u001b[0m",
      "\u001b[0;31mTypeError\u001b[0m                                 Traceback (most recent call last)",
      "\u001b[0;32m<ipython-input-98-bf923172c036>\u001b[0m in \u001b[0;36m<module>\u001b[0;34m\u001b[0m\n\u001b[0;32m----> 1\u001b[0;31m \u001b[0mwords\u001b[0m\u001b[0;34m[\u001b[0m\u001b[0;36m1\u001b[0m\u001b[0;34m]\u001b[0m \u001b[0;34m=\u001b[0m \u001b[0;34m\"cheese\"\u001b[0m\u001b[0;34m\u001b[0m\u001b[0;34m\u001b[0m\u001b[0m\n\u001b[0m",
      "\u001b[0;31mTypeError\u001b[0m: 'tuple' object does not support item assignment"
     ]
    }
   ],
   "source": [
    "words[1] = \"cheese\""
   ]
  },
  {
   "cell_type": "code",
   "execution_count": 99,
   "id": "3a45b769",
   "metadata": {},
   "outputs": [],
   "source": [
    "my_tuple = \"one\", \"two\", \"three\""
   ]
  },
  {
   "cell_type": "code",
   "execution_count": 100,
   "id": "de62fde3",
   "metadata": {},
   "outputs": [
    {
     "data": {
      "text/plain": [
       "('one', 'two', 'three')"
      ]
     },
     "execution_count": 100,
     "metadata": {},
     "output_type": "execute_result"
    }
   ],
   "source": [
    "my_tuple"
   ]
  },
  {
   "cell_type": "code",
   "execution_count": 103,
   "id": "6a9a5c73",
   "metadata": {},
   "outputs": [],
   "source": [
    "a, b, c = my_tuple"
   ]
  },
  {
   "cell_type": "code",
   "execution_count": 104,
   "id": "91207ff4",
   "metadata": {},
   "outputs": [
    {
     "data": {
      "text/plain": [
       "'one'"
      ]
     },
     "execution_count": 104,
     "metadata": {},
     "output_type": "execute_result"
    }
   ],
   "source": [
    "a"
   ]
  },
  {
   "cell_type": "code",
   "execution_count": 106,
   "id": "f027fb97",
   "metadata": {},
   "outputs": [
    {
     "data": {
      "text/plain": [
       "'two'"
      ]
     },
     "execution_count": 106,
     "metadata": {},
     "output_type": "execute_result"
    }
   ],
   "source": [
    "b"
   ]
  },
  {
   "cell_type": "code",
   "execution_count": 107,
   "id": "bb85b5c2",
   "metadata": {},
   "outputs": [
    {
     "data": {
      "text/plain": [
       "'three'"
      ]
     },
     "execution_count": 107,
     "metadata": {},
     "output_type": "execute_result"
    }
   ],
   "source": [
    "c"
   ]
  },
  {
   "cell_type": "markdown",
   "id": "c2de0b85",
   "metadata": {},
   "source": [
    "# Sets"
   ]
  },
  {
   "cell_type": "code",
   "execution_count": 108,
   "id": "e3dd835e",
   "metadata": {},
   "outputs": [],
   "source": [
    "num_set = {1, 2, 3, 4, 5, 5}"
   ]
  },
  {
   "cell_type": "code",
   "execution_count": 109,
   "id": "668a4bc6",
   "metadata": {},
   "outputs": [
    {
     "data": {
      "text/plain": [
       "{1, 2, 3, 4, 5}"
      ]
     },
     "execution_count": 109,
     "metadata": {},
     "output_type": "execute_result"
    }
   ],
   "source": [
    "num_set"
   ]
  },
  {
   "cell_type": "code",
   "execution_count": 110,
   "id": "4307f8a3",
   "metadata": {},
   "outputs": [
    {
     "data": {
      "text/plain": [
       "True"
      ]
     },
     "execution_count": 110,
     "metadata": {},
     "output_type": "execute_result"
    }
   ],
   "source": [
    "3 in num_set"
   ]
  },
  {
   "cell_type": "code",
   "execution_count": 111,
   "id": "64c59b6b",
   "metadata": {},
   "outputs": [],
   "source": [
    "nums = {1, 2, 1, 3, 1, 4, 5, 6}"
   ]
  },
  {
   "cell_type": "code",
   "execution_count": 112,
   "id": "ee5ed397",
   "metadata": {},
   "outputs": [
    {
     "data": {
      "text/plain": [
       "{1, 2, 3, 4, 5, 6}"
      ]
     },
     "execution_count": 112,
     "metadata": {},
     "output_type": "execute_result"
    }
   ],
   "source": [
    "nums"
   ]
  },
  {
   "cell_type": "code",
   "execution_count": 113,
   "id": "6e7dfe4b",
   "metadata": {},
   "outputs": [],
   "source": [
    "nums.add(-7)"
   ]
  },
  {
   "cell_type": "code",
   "execution_count": 114,
   "id": "0c42967b",
   "metadata": {},
   "outputs": [
    {
     "data": {
      "text/plain": [
       "{-7, 1, 2, 3, 4, 5, 6}"
      ]
     },
     "execution_count": 114,
     "metadata": {},
     "output_type": "execute_result"
    }
   ],
   "source": [
    "nums"
   ]
  },
  {
   "cell_type": "code",
   "execution_count": 115,
   "id": "149717fa",
   "metadata": {},
   "outputs": [],
   "source": [
    "nums.add(7)"
   ]
  },
  {
   "cell_type": "code",
   "execution_count": 116,
   "id": "4ddb7cd4",
   "metadata": {},
   "outputs": [
    {
     "data": {
      "text/plain": [
       "{-7, 1, 2, 3, 4, 5, 6, 7}"
      ]
     },
     "execution_count": 116,
     "metadata": {},
     "output_type": "execute_result"
    }
   ],
   "source": [
    "nums"
   ]
  },
  {
   "cell_type": "code",
   "execution_count": 117,
   "id": "08440fb6",
   "metadata": {},
   "outputs": [
    {
     "data": {
      "text/plain": [
       "{-7, 1, 2, 4, 5, 6, 7}"
      ]
     },
     "execution_count": 117,
     "metadata": {},
     "output_type": "execute_result"
    }
   ],
   "source": [
    "nums.remove(3)\n",
    "nums"
   ]
  },
  {
   "cell_type": "code",
   "execution_count": 118,
   "id": "0763f604",
   "metadata": {},
   "outputs": [
    {
     "data": {
      "text/plain": [
       "7"
      ]
     },
     "execution_count": 118,
     "metadata": {},
     "output_type": "execute_result"
    }
   ],
   "source": [
    "len(nums)"
   ]
  },
  {
   "cell_type": "code",
   "execution_count": 119,
   "id": "ef083c9b",
   "metadata": {},
   "outputs": [],
   "source": [
    "first = {1, 2, 3, 4, 5, 6}\n",
    "second = {4, 5, 6, 7, 8, 9}"
   ]
  },
  {
   "cell_type": "code",
   "execution_count": 120,
   "id": "3e2ac3a4",
   "metadata": {},
   "outputs": [
    {
     "data": {
      "text/plain": [
       "{1, 2, 3, 4, 5, 6, 7, 8, 9}"
      ]
     },
     "execution_count": 120,
     "metadata": {},
     "output_type": "execute_result"
    }
   ],
   "source": [
    "# Union of a set\n",
    "first | second"
   ]
  },
  {
   "cell_type": "code",
   "execution_count": 121,
   "id": "12dba19e",
   "metadata": {},
   "outputs": [
    {
     "data": {
      "text/plain": [
       "{4, 5, 6}"
      ]
     },
     "execution_count": 121,
     "metadata": {},
     "output_type": "execute_result"
    }
   ],
   "source": [
    "# Intersection of a set\n",
    "first & second"
   ]
  },
  {
   "cell_type": "code",
   "execution_count": 123,
   "id": "bcd3ffe8",
   "metadata": {},
   "outputs": [
    {
     "data": {
      "text/plain": [
       "{1, 2, 3}"
      ]
     },
     "execution_count": 123,
     "metadata": {},
     "output_type": "execute_result"
    }
   ],
   "source": [
    "# Diffrence\n",
    "first - second"
   ]
  },
  {
   "cell_type": "code",
   "execution_count": 124,
   "id": "5c49bd61",
   "metadata": {},
   "outputs": [
    {
     "data": {
      "text/plain": [
       "{7, 8, 9}"
      ]
     },
     "execution_count": 124,
     "metadata": {},
     "output_type": "execute_result"
    }
   ],
   "source": [
    "second - first"
   ]
  },
  {
   "cell_type": "code",
   "execution_count": 125,
   "id": "a2e4b142",
   "metadata": {},
   "outputs": [
    {
     "data": {
      "text/plain": [
       "{1, 2, 3, 7, 8, 9}"
      ]
     },
     "execution_count": 125,
     "metadata": {},
     "output_type": "execute_result"
    }
   ],
   "source": [
    "first ^ second"
   ]
  },
  {
   "cell_type": "markdown",
   "id": "c2f1209c",
   "metadata": {},
   "source": [
    "# Lambda Functions"
   ]
  },
  {
   "cell_type": "code",
   "execution_count": 126,
   "id": "332bd186",
   "metadata": {},
   "outputs": [],
   "source": [
    "def polynomial(x):\n",
    "    return x**2 + 5*x + 4"
   ]
  },
  {
   "cell_type": "code",
   "execution_count": 127,
   "id": "a6201176",
   "metadata": {},
   "outputs": [
    {
     "data": {
      "text/plain": [
       "18"
      ]
     },
     "execution_count": 127,
     "metadata": {},
     "output_type": "execute_result"
    }
   ],
   "source": [
    "polynomial(2)"
   ]
  },
  {
   "cell_type": "code",
   "execution_count": 128,
   "id": "ef18a75d",
   "metadata": {},
   "outputs": [
    {
     "data": {
      "text/plain": [
       "18"
      ]
     },
     "execution_count": 128,
     "metadata": {},
     "output_type": "execute_result"
    }
   ],
   "source": [
    "(lambda x: x**2 + 5*x + 4)(2)"
   ]
  }
 ],
 "metadata": {
  "kernelspec": {
   "display_name": "Python 3",
   "language": "python",
   "name": "python3"
  },
  "language_info": {
   "codemirror_mode": {
    "name": "ipython",
    "version": 3
   },
   "file_extension": ".py",
   "mimetype": "text/x-python",
   "name": "python",
   "nbconvert_exporter": "python",
   "pygments_lexer": "ipython3",
   "version": "3.8.8"
  }
 },
 "nbformat": 4,
 "nbformat_minor": 5
}
