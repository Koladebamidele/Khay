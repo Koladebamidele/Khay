{
 "cells": [
  {
   "cell_type": "markdown",
   "id": "4e007f90",
   "metadata": {},
   "source": [
    "# Hello World!"
   ]
  },
  {
   "cell_type": "markdown",
   "id": "1ef88214",
   "metadata": {},
   "source": [
    "In Programing the first thing usually taught is how to print out Hello World! to the screen, so lets do that."
   ]
  },
  {
   "cell_type": "code",
   "execution_count": 1,
   "id": "58363a72",
   "metadata": {},
   "outputs": [
    {
     "name": "stdout",
     "output_type": "stream",
     "text": [
      "Hello World!\n"
     ]
    }
   ],
   "source": [
    "print(\"Hello World!\")"
   ]
  },
  {
   "cell_type": "markdown",
   "id": "2c4615cb",
   "metadata": {},
   "source": [
    "### Comments\n",
    "\n",
    "In programming comments are used to explain what a line of code does. This increases readability both for the programmer and a stranger comming to read the code for the first time."
   ]
  },
  {
   "cell_type": "code",
   "execution_count": 2,
   "id": "2bf5343e",
   "metadata": {},
   "outputs": [],
   "source": [
    "# This is a comment"
   ]
  },
  {
   "cell_type": "markdown",
   "id": "71d725f8",
   "metadata": {},
   "source": [
    "### Arithmetics in Python"
   ]
  },
  {
   "cell_type": "markdown",
   "id": "0361c704",
   "metadata": {},
   "source": [
    "To perform arithmetic operations in python we use aritnmetic operators for this purposes. The aritmetic operators are Addition(+), Subtraction(-), Multiplication( * ), Division(/), Modululs(%), Exponent( ** )"
   ]
  },
  {
   "cell_type": "code",
   "execution_count": 3,
   "id": "f9c0c948",
   "metadata": {},
   "outputs": [
    {
     "data": {
      "text/plain": [
       "10"
      ]
     },
     "execution_count": 3,
     "metadata": {},
     "output_type": "execute_result"
    }
   ],
   "source": [
    "#Addition\n",
    "5 + 5"
   ]
  },
  {
   "cell_type": "code",
   "execution_count": 4,
   "id": "670ee93c",
   "metadata": {},
   "outputs": [
    {
     "data": {
      "text/plain": [
       "5"
      ]
     },
     "execution_count": 4,
     "metadata": {},
     "output_type": "execute_result"
    }
   ],
   "source": [
    "# Subtraction\n",
    "10 - 5"
   ]
  },
  {
   "cell_type": "code",
   "execution_count": 5,
   "id": "637b1147",
   "metadata": {},
   "outputs": [
    {
     "data": {
      "text/plain": [
       "15"
      ]
     },
     "execution_count": 5,
     "metadata": {},
     "output_type": "execute_result"
    }
   ],
   "source": [
    "# Multiplication\n",
    "3 * 5"
   ]
  },
  {
   "cell_type": "code",
   "execution_count": 6,
   "id": "4430a557",
   "metadata": {},
   "outputs": [
    {
     "data": {
      "text/plain": [
       "5.0"
      ]
     },
     "execution_count": 6,
     "metadata": {},
     "output_type": "execute_result"
    }
   ],
   "source": [
    "# Division\n",
    "10 / 2"
   ]
  },
  {
   "cell_type": "code",
   "execution_count": 7,
   "id": "b904864f",
   "metadata": {},
   "outputs": [
    {
     "data": {
      "text/plain": [
       "4"
      ]
     },
     "execution_count": 7,
     "metadata": {},
     "output_type": "execute_result"
    }
   ],
   "source": [
    "# Modulus ( remainder )\n",
    "18 % 7"
   ]
  },
  {
   "cell_type": "code",
   "execution_count": 8,
   "id": "aa7348fa",
   "metadata": {},
   "outputs": [
    {
     "data": {
      "text/plain": [
       "2.5714285714285716"
      ]
     },
     "execution_count": 8,
     "metadata": {},
     "output_type": "execute_result"
    }
   ],
   "source": [
    "18 / 7"
   ]
  },
  {
   "cell_type": "code",
   "execution_count": 9,
   "id": "907de39b",
   "metadata": {},
   "outputs": [
    {
     "data": {
      "text/plain": [
       "16"
      ]
     },
     "execution_count": 9,
     "metadata": {},
     "output_type": "execute_result"
    }
   ],
   "source": [
    "# Exponents (raised to power)\n",
    "4 ** 2"
   ]
  },
  {
   "cell_type": "code",
   "execution_count": 10,
   "id": "6446a9a2",
   "metadata": {},
   "outputs": [
    {
     "data": {
      "text/plain": [
       "3125"
      ]
     },
     "execution_count": 10,
     "metadata": {},
     "output_type": "execute_result"
    }
   ],
   "source": [
    "5 ** 5"
   ]
  },
  {
   "cell_type": "markdown",
   "id": "48f55ba3",
   "metadata": {},
   "source": [
    "### Variable Assingments\n",
    "\n",
    "To assign a variable in python all we have to do is to type the variable name and give it a value. For example:"
   ]
  },
  {
   "cell_type": "code",
   "execution_count": 11,
   "id": "48971036",
   "metadata": {},
   "outputs": [],
   "source": [
    "x = 5"
   ]
  },
  {
   "cell_type": "code",
   "execution_count": 12,
   "id": "1753e8fc",
   "metadata": {},
   "outputs": [
    {
     "name": "stdout",
     "output_type": "stream",
     "text": [
      "5\n"
     ]
    }
   ],
   "source": [
    "print(x)"
   ]
  },
  {
   "cell_type": "code",
   "execution_count": 13,
   "id": "80c91aec",
   "metadata": {},
   "outputs": [],
   "source": [
    "x = 10"
   ]
  },
  {
   "cell_type": "code",
   "execution_count": 14,
   "id": "2bdb9673",
   "metadata": {},
   "outputs": [
    {
     "name": "stdout",
     "output_type": "stream",
     "text": [
      "10\n"
     ]
    }
   ],
   "source": [
    "print(x)"
   ]
  },
  {
   "cell_type": "markdown",
   "id": "159cdd8d",
   "metadata": {},
   "source": [
    "Variables can be used to perform math operations in place of numbers. For example:"
   ]
  },
  {
   "cell_type": "code",
   "execution_count": 15,
   "id": "11a41dd9",
   "metadata": {},
   "outputs": [
    {
     "name": "stdout",
     "output_type": "stream",
     "text": [
      "20\n"
     ]
    }
   ],
   "source": [
    "num = 10\n",
    "mul = 2\n",
    "\n",
    "print(num * mul)"
   ]
  },
  {
   "cell_type": "code",
   "execution_count": 16,
   "id": "3fb3b813",
   "metadata": {},
   "outputs": [
    {
     "name": "stdout",
     "output_type": "stream",
     "text": [
      "100\n"
     ]
    }
   ],
   "source": [
    "print(num * x)"
   ]
  },
  {
   "cell_type": "markdown",
   "id": "a32f0f8f",
   "metadata": {},
   "source": [
    "### Data Types\n",
    "\n",
    "Their are several data types in python. Examples are:"
   ]
  },
  {
   "cell_type": "markdown",
   "id": "c0b45421",
   "metadata": {},
   "source": [
    "Their are 4 data types in python\n",
    "\n",
    "* Intergers ( Whole Numbers)\n",
    "* Floats ( Decimals and Fraction )\n",
    "* Strings ( Text )\n",
    "* Booleans ( True or False )"
   ]
  },
  {
   "cell_type": "code",
   "execution_count": 17,
   "id": "501166a0",
   "metadata": {},
   "outputs": [],
   "source": [
    "type1 = 100 # Integer\n",
    "type2 = 1.1 # Float\n",
    "type3 = \"This program is brought to you by 'COLPHYS and CCCTI'\" # Strings\n",
    "type4 = True # boolean 1\n",
    "type5 = False # boolean 2"
   ]
  },
  {
   "cell_type": "code",
   "execution_count": 18,
   "id": "71bf5478",
   "metadata": {},
   "outputs": [
    {
     "name": "stdout",
     "output_type": "stream",
     "text": [
      "This program is brought to you by 'COLPHYS and CCCTI'\n"
     ]
    }
   ],
   "source": [
    "print(type3)"
   ]
  },
  {
   "cell_type": "markdown",
   "id": "cea7ff94",
   "metadata": {},
   "source": [
    "In python you can check the data type of an already defined variable by just using the function `type()`"
   ]
  },
  {
   "cell_type": "code",
   "execution_count": 19,
   "id": "aadff58e",
   "metadata": {},
   "outputs": [
    {
     "data": {
      "text/plain": [
       "bool"
      ]
     },
     "execution_count": 19,
     "metadata": {},
     "output_type": "execute_result"
    }
   ],
   "source": [
    "type(type4)"
   ]
  },
  {
   "cell_type": "code",
   "execution_count": 20,
   "id": "68f64be2",
   "metadata": {},
   "outputs": [
    {
     "data": {
      "text/plain": [
       "str"
      ]
     },
     "execution_count": 20,
     "metadata": {},
     "output_type": "execute_result"
    }
   ],
   "source": [
    "type(type3)"
   ]
  },
  {
   "cell_type": "markdown",
   "id": "55a0b09f",
   "metadata": {},
   "source": [
    "Just as operation can be performed on numbers in Python we can also perform addition on strings also. This is called concatenation."
   ]
  },
  {
   "cell_type": "markdown",
   "id": "13505d52",
   "metadata": {},
   "source": [
    "Concatenation is the process of joining two strings together"
   ]
  },
  {
   "cell_type": "code",
   "execution_count": 21,
   "id": "41f0aff1",
   "metadata": {},
   "outputs": [],
   "source": [
    "string1 = \"COLPHYS & \"\n",
    "string2 = \"CCTI\"\n",
    "\n",
    "result = string1 + string2"
   ]
  },
  {
   "cell_type": "code",
   "execution_count": 22,
   "id": "abb1f032",
   "metadata": {},
   "outputs": [
    {
     "name": "stdout",
     "output_type": "stream",
     "text": [
      "COLPHYS & CCTI\n"
     ]
    }
   ],
   "source": [
    "print(result)"
   ]
  },
  {
   "cell_type": "markdown",
   "id": "d6762a9b",
   "metadata": {},
   "source": [
    "To repeat string use the multiplication operator `*`"
   ]
  },
  {
   "cell_type": "code",
   "execution_count": 23,
   "id": "e8842a82",
   "metadata": {},
   "outputs": [
    {
     "name": "stdout",
     "output_type": "stream",
     "text": [
      "COLPHYS & COLPHYS & COLPHYS & \n"
     ]
    }
   ],
   "source": [
    "result2 = string1 * 3\n",
    "print(result2)"
   ]
  },
  {
   "cell_type": "markdown",
   "id": "65373bbc",
   "metadata": {},
   "source": [
    "In Python it is possible to change the data type of a particular variable using functions like.\n",
    "\n",
    "* str() - changes a variable to a string\n",
    "* float() - changes a variable to a float\n",
    "* int() - changes a variable to an integer\n",
    "* bool() - changes a variable to boolean"
   ]
  },
  {
   "cell_type": "code",
   "execution_count": 24,
   "id": "aa0cbd73",
   "metadata": {},
   "outputs": [
    {
     "data": {
      "text/plain": [
       "str"
      ]
     },
     "execution_count": 24,
     "metadata": {},
     "output_type": "execute_result"
    }
   ],
   "source": [
    "data =  \"1.0000\"\n",
    "type(data)"
   ]
  },
  {
   "cell_type": "code",
   "execution_count": 25,
   "id": "eb577fee",
   "metadata": {},
   "outputs": [
    {
     "name": "stdout",
     "output_type": "stream",
     "text": [
      "1.0\n"
     ]
    },
    {
     "data": {
      "text/plain": [
       "float"
      ]
     },
     "execution_count": 25,
     "metadata": {},
     "output_type": "execute_result"
    }
   ],
   "source": [
    "data1 = float(data)\n",
    "print(data1)\n",
    "type(data1)"
   ]
  },
  {
   "cell_type": "markdown",
   "id": "bf2630e8",
   "metadata": {},
   "source": [
    "### Python Lists"
   ]
  },
  {
   "cell_type": "markdown",
   "id": "eed0c2d2",
   "metadata": {},
   "source": [
    "In programming a list is an example of what we call a complex data type."
   ]
  },
  {
   "cell_type": "code",
   "execution_count": 26,
   "id": "47b6d928",
   "metadata": {},
   "outputs": [],
   "source": [
    "a = \"is\"\n",
    "b = \"nice\"\n",
    "my_list = [\"my\", \"list\", a, b]"
   ]
  },
  {
   "cell_type": "code",
   "execution_count": 27,
   "id": "a483467f",
   "metadata": {},
   "outputs": [
    {
     "data": {
      "text/plain": [
       "['my', 'list', 'is', 'nice']"
      ]
     },
     "execution_count": 27,
     "metadata": {},
     "output_type": "execute_result"
    }
   ],
   "source": [
    "my_list"
   ]
  },
  {
   "cell_type": "code",
   "execution_count": 28,
   "id": "750dba88",
   "metadata": {},
   "outputs": [],
   "source": [
    "# to define a list in python  all you have to use is square brackets []\n",
    "new_list = [1, 2, 3, 4, 5, \"One\", \"Two\", \"Three\", \"Four\", \"Five\", True, False ]"
   ]
  },
  {
   "cell_type": "code",
   "execution_count": 29,
   "id": "b409da61",
   "metadata": {},
   "outputs": [
    {
     "data": {
      "text/plain": [
       "[1, 2, 3, 4, 5, 'One', 'Two', 'Three', 'Four', 'Five', True, False]"
      ]
     },
     "execution_count": 29,
     "metadata": {},
     "output_type": "execute_result"
    }
   ],
   "source": [
    "new_list"
   ]
  },
  {
   "cell_type": "markdown",
   "id": "a2fb26b8",
   "metadata": {},
   "source": [
    "A python list can contain more than one data type"
   ]
  },
  {
   "cell_type": "code",
   "execution_count": 30,
   "id": "fe7d4fc1",
   "metadata": {},
   "outputs": [
    {
     "data": {
      "text/plain": [
       "[1.0, 2.0, 3.0, 'One', 'Two', 'Three']"
      ]
     },
     "execution_count": 30,
     "metadata": {},
     "output_type": "execute_result"
    }
   ],
   "source": [
    "one = 1.0\n",
    "two = 2.0\n",
    "three = 3.0\n",
    "numbers = [one, two, three, \"One\", \"Two\", \"Three\"]\n",
    "numbers"
   ]
  },
  {
   "cell_type": "code",
   "execution_count": 31,
   "id": "ae952e3e",
   "metadata": {},
   "outputs": [
    {
     "data": {
      "text/plain": [
       "[[1, 2, 3, 4, 5],\n",
       " ['one', 'two', 'three', 'four', 'five'],\n",
       " [1.0, 2.0, 3.0, 4.0, 5.0]]"
      ]
     },
     "execution_count": 31,
     "metadata": {},
     "output_type": "execute_result"
    }
   ],
   "source": [
    "# Also a list can also contain a list in python\n",
    "\n",
    "a = [1, 2, 3, 4, 5]\n",
    "b = [\"one\", \"two\", \"three\", \"four\", \"five\"]\n",
    "c = [1.0, 2.0, 3.0, 4.0, 5.0]\n",
    "\n",
    "list1 = [a, b, c]\n",
    "list1"
   ]
  },
  {
   "cell_type": "code",
   "execution_count": 32,
   "id": "9509749e",
   "metadata": {},
   "outputs": [
    {
     "data": {
      "text/plain": [
       "[1, 2, 3, 4, 5, 'One', 'Two', 'Three', 'Four', 'Five', True, False]"
      ]
     },
     "execution_count": 32,
     "metadata": {},
     "output_type": "execute_result"
    }
   ],
   "source": [
    "# List Indexing\n",
    "new_list"
   ]
  },
  {
   "cell_type": "code",
   "execution_count": 33,
   "id": "fd0042ba",
   "metadata": {},
   "outputs": [
    {
     "data": {
      "text/plain": [
       "1"
      ]
     },
     "execution_count": 33,
     "metadata": {},
     "output_type": "execute_result"
    }
   ],
   "source": [
    "new_list[0]"
   ]
  },
  {
   "cell_type": "code",
   "execution_count": 34,
   "id": "ef50872c",
   "metadata": {},
   "outputs": [
    {
     "data": {
      "text/plain": [
       "False"
      ]
     },
     "execution_count": 34,
     "metadata": {},
     "output_type": "execute_result"
    }
   ],
   "source": [
    "new_list[11]"
   ]
  },
  {
   "cell_type": "code",
   "execution_count": 35,
   "id": "a701f1d4",
   "metadata": {},
   "outputs": [
    {
     "data": {
      "text/plain": [
       "False"
      ]
     },
     "execution_count": 35,
     "metadata": {},
     "output_type": "execute_result"
    }
   ],
   "source": [
    "new_list[-1]"
   ]
  },
  {
   "cell_type": "code",
   "execution_count": 36,
   "id": "dd3d7ff8",
   "metadata": {},
   "outputs": [
    {
     "data": {
      "text/plain": [
       "'Five'"
      ]
     },
     "execution_count": 36,
     "metadata": {},
     "output_type": "execute_result"
    }
   ],
   "source": [
    "new_list[-3]"
   ]
  },
  {
   "cell_type": "code",
   "execution_count": 37,
   "id": "9225b1ef",
   "metadata": {},
   "outputs": [
    {
     "data": {
      "text/plain": [
       "[[1, 2, 3, 4, 5],\n",
       " ['one', 'two', 'three', 'four', 'five'],\n",
       " [1.0, 2.0, 3.0, 4.0, 5.0]]"
      ]
     },
     "execution_count": 37,
     "metadata": {},
     "output_type": "execute_result"
    }
   ],
   "source": [
    "list1"
   ]
  },
  {
   "cell_type": "code",
   "execution_count": 38,
   "id": "b93fc481",
   "metadata": {},
   "outputs": [
    {
     "data": {
      "text/plain": [
       "[1.0, 2.0, 3.0, 4.0, 5.0]"
      ]
     },
     "execution_count": 38,
     "metadata": {},
     "output_type": "execute_result"
    }
   ],
   "source": [
    "list1[2]"
   ]
  },
  {
   "cell_type": "code",
   "execution_count": 39,
   "id": "f6962038",
   "metadata": {},
   "outputs": [
    {
     "data": {
      "text/plain": [
       "4.0"
      ]
     },
     "execution_count": 39,
     "metadata": {},
     "output_type": "execute_result"
    }
   ],
   "source": [
    "list1[2][3]"
   ]
  },
  {
   "cell_type": "code",
   "execution_count": 40,
   "id": "0bf1824c",
   "metadata": {},
   "outputs": [
    {
     "data": {
      "text/plain": [
       "[1.0, 2.0, 3.0, 'One', 'Two', 'Three']"
      ]
     },
     "execution_count": 40,
     "metadata": {},
     "output_type": "execute_result"
    }
   ],
   "source": [
    "numbers"
   ]
  },
  {
   "cell_type": "code",
   "execution_count": 41,
   "id": "c9a4a7ae",
   "metadata": {},
   "outputs": [
    {
     "data": {
      "text/plain": [
       "[1.0, 2.0, 3.0, 'One', 'Two', 'Three']"
      ]
     },
     "execution_count": 41,
     "metadata": {},
     "output_type": "execute_result"
    }
   ],
   "source": [
    "# List Slicing\n",
    "\n",
    "numbers[0:] # from index 0 upstairs"
   ]
  },
  {
   "cell_type": "code",
   "execution_count": 42,
   "id": "86bf8859",
   "metadata": {},
   "outputs": [
    {
     "data": {
      "text/plain": [
       "['Two', 'Three']"
      ]
     },
     "execution_count": 42,
     "metadata": {},
     "output_type": "execute_result"
    }
   ],
   "source": [
    "numbers[4:] # from index 4 upstairs"
   ]
  },
  {
   "cell_type": "code",
   "execution_count": 43,
   "id": "f8c6b751",
   "metadata": {},
   "outputs": [
    {
     "data": {
      "text/plain": [
       "[1.0, 2.0, 3.0, 'One', 'Two']"
      ]
     },
     "execution_count": 43,
     "metadata": {},
     "output_type": "execute_result"
    }
   ],
   "source": [
    "numbers[0:5] # from index 0 to index 4"
   ]
  },
  {
   "cell_type": "code",
   "execution_count": 44,
   "id": "657972cd",
   "metadata": {},
   "outputs": [
    {
     "data": {
      "text/plain": [
       "[2.0, 3.0, 'One', 'Two']"
      ]
     },
     "execution_count": 44,
     "metadata": {},
     "output_type": "execute_result"
    }
   ],
   "source": [
    "numbers[1:5] # from index 1 to index 4"
   ]
  },
  {
   "cell_type": "code",
   "execution_count": 45,
   "id": "fd45aea5",
   "metadata": {},
   "outputs": [
    {
     "data": {
      "text/plain": [
       "[1.0, 2.0, 3.0, 'One', 'Two']"
      ]
     },
     "execution_count": 45,
     "metadata": {},
     "output_type": "execute_result"
    }
   ],
   "source": [
    "numbers[:5] # from index 4 downstairs"
   ]
  },
  {
   "cell_type": "code",
   "execution_count": 46,
   "id": "caad643e",
   "metadata": {},
   "outputs": [
    {
     "name": "stdout",
     "output_type": "stream",
     "text": [
      "[1.0, 2.0, 3.0, 'One', 'Two', 'Three']\n"
     ]
    }
   ],
   "source": [
    "print(numbers[:]) # Every element in the list."
   ]
  },
  {
   "cell_type": "code",
   "execution_count": 47,
   "id": "24525044",
   "metadata": {},
   "outputs": [
    {
     "name": "stdout",
     "output_type": "stream",
     "text": [
      "[1.0, 2.0, 3.0, 'One', 'Two', 'three']\n"
     ]
    }
   ],
   "source": [
    "# Changing values of elements in a list\n",
    "\n",
    "# Using the numbers list\n",
    "numbers[-1] = \"three\"\n",
    "print(numbers)"
   ]
  },
  {
   "cell_type": "code",
   "execution_count": 48,
   "id": "5d6c33d7",
   "metadata": {},
   "outputs": [
    {
     "name": "stdout",
     "output_type": "stream",
     "text": [
      "[1.0, 2.0, 3.0, 'One', 'Two', 'three', 'Four', 'Five']\n"
     ]
    }
   ],
   "source": [
    "# Appending elements to a list\n",
    "\n",
    "numbers1 = numbers + [\"Four\", \"Five\"]\n",
    "\n",
    "print(numbers1)"
   ]
  },
  {
   "cell_type": "code",
   "execution_count": 49,
   "id": "ff03d860",
   "metadata": {},
   "outputs": [
    {
     "name": "stdout",
     "output_type": "stream",
     "text": [
      "[1.0, 2.0, 3.0, 'One', 'Two', 'three', 'Five']\n"
     ]
    }
   ],
   "source": [
    "# Deleting elements in a list\n",
    "# To delete an element in a list you use the delete function [del()]\n",
    "\n",
    "del(numbers1[-2])\n",
    "\n",
    "print(numbers1)"
   ]
  }
 ],
 "metadata": {
  "kernelspec": {
   "display_name": "Python 3",
   "language": "python",
   "name": "python3"
  },
  "language_info": {
   "codemirror_mode": {
    "name": "ipython",
    "version": 3
   },
   "file_extension": ".py",
   "mimetype": "text/x-python",
   "name": "python",
   "nbconvert_exporter": "python",
   "pygments_lexer": "ipython3",
   "version": "3.8.8"
  }
 },
 "nbformat": 4,
 "nbformat_minor": 5
}
